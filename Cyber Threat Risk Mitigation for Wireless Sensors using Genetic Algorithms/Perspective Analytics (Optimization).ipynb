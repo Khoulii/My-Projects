{
 "cells": [
  {
   "cell_type": "code",
   "execution_count": 1,
   "id": "48fc26bc",
   "metadata": {},
   "outputs": [],
   "source": [
    "import numpy as np\n",
    "import pandas as pd\n",
    "from sklearn.preprocessing import StandardScaler\n",
    "from sklearn.preprocessing import MinMaxScaler\n",
    "import matplotlib.pyplot as plt\n",
    "import seaborn as sns\n",
    "from sklearn.feature_selection import SelectKBest, f_regression\n",
    "from sklearn.feature_selection import RFE\n",
    "from sklearn.linear_model import LinearRegression\n",
    "from sklearn.model_selection import cross_val_score, RepeatedKFold\n",
    "from sklearn.model_selection import train_test_split\n",
    "from sklearn.metrics import mean_absolute_error, mean_squared_error, r2_score\n",
    "from sklearn.tree import DecisionTreeRegressor\n",
    "from sklearn.ensemble import RandomForestRegressor\n",
    "from mlxtend.feature_selection import SequentialFeatureSelector as SFS\n",
    "from sklearn.feature_selection import SelectFromModel"
   ]
  },
  {
   "cell_type": "markdown",
   "id": "ce0f4f70",
   "metadata": {},
   "source": [
    "## Data Preprocessing and Cleaning"
   ]
  },
  {
   "cell_type": "markdown",
   "id": "b26f65cd",
   "metadata": {},
   "source": [
    "#### Loading the Data Set"
   ]
  },
  {
   "cell_type": "code",
   "execution_count": 2,
   "id": "956bf2cd",
   "metadata": {},
   "outputs": [],
   "source": [
    "df = pd.read_csv(\"WSNBFSFdataset V2 (1).csv\")"
   ]
  },
  {
   "cell_type": "code",
   "execution_count": 3,
   "id": "b92cb9b1",
   "metadata": {
    "scrolled": true
   },
   "outputs": [
    {
     "data": {
      "text/html": [
       "<div>\n",
       "<style scoped>\n",
       "    .dataframe tbody tr th:only-of-type {\n",
       "        vertical-align: middle;\n",
       "    }\n",
       "\n",
       "    .dataframe tbody tr th {\n",
       "        vertical-align: top;\n",
       "    }\n",
       "\n",
       "    .dataframe thead th {\n",
       "        text-align: right;\n",
       "    }\n",
       "</style>\n",
       "<table border=\"1\" class=\"dataframe\">\n",
       "  <thead>\n",
       "    <tr style=\"text-align: right;\">\n",
       "      <th></th>\n",
       "      <th>Event</th>\n",
       "      <th>Time</th>\n",
       "      <th>S_Node</th>\n",
       "      <th>Node_id</th>\n",
       "      <th>Rest_Energy</th>\n",
       "      <th>Trace_Level</th>\n",
       "      <th>Mac_Type_Pckt</th>\n",
       "      <th>Source_IP_Port</th>\n",
       "      <th>Des_IP_Port</th>\n",
       "      <th>Packet_Size</th>\n",
       "      <th>...</th>\n",
       "      <th>Broadcast_ID</th>\n",
       "      <th>Dest_Node_Num</th>\n",
       "      <th>Dest_Seq_Num</th>\n",
       "      <th>Src_Node_ID</th>\n",
       "      <th>Src_Seq_Num</th>\n",
       "      <th>behaviour</th>\n",
       "      <th>Type</th>\n",
       "      <th>rate_of_energy_consumption</th>\n",
       "      <th>cumulative_energy_consumption</th>\n",
       "      <th>energy_consumption</th>\n",
       "    </tr>\n",
       "  </thead>\n",
       "  <tbody>\n",
       "    <tr>\n",
       "      <th>0</th>\n",
       "      <td>1</td>\n",
       "      <td>0.100000</td>\n",
       "      <td>79</td>\n",
       "      <td>79</td>\n",
       "      <td>600.000000</td>\n",
       "      <td>5</td>\n",
       "      <td>0</td>\n",
       "      <td>79.255</td>\n",
       "      <td>1.255</td>\n",
       "      <td>48</td>\n",
       "      <td>...</td>\n",
       "      <td>1</td>\n",
       "      <td>100</td>\n",
       "      <td>0</td>\n",
       "      <td>79</td>\n",
       "      <td>4</td>\n",
       "      <td>No attack</td>\n",
       "      <td>normal</td>\n",
       "      <td>0.0</td>\n",
       "      <td>0.0</td>\n",
       "      <td>0.0</td>\n",
       "    </tr>\n",
       "    <tr>\n",
       "      <th>1</th>\n",
       "      <td>2</td>\n",
       "      <td>0.100963</td>\n",
       "      <td>78</td>\n",
       "      <td>78</td>\n",
       "      <td>599.979723</td>\n",
       "      <td>5</td>\n",
       "      <td>800</td>\n",
       "      <td>79.255</td>\n",
       "      <td>1.255</td>\n",
       "      <td>48</td>\n",
       "      <td>...</td>\n",
       "      <td>1</td>\n",
       "      <td>100</td>\n",
       "      <td>0</td>\n",
       "      <td>79</td>\n",
       "      <td>4</td>\n",
       "      <td>No attack</td>\n",
       "      <td>normal</td>\n",
       "      <td>0.0</td>\n",
       "      <td>0.0</td>\n",
       "      <td>0.0</td>\n",
       "    </tr>\n",
       "    <tr>\n",
       "      <th>2</th>\n",
       "      <td>2</td>\n",
       "      <td>0.100963</td>\n",
       "      <td>76</td>\n",
       "      <td>76</td>\n",
       "      <td>599.979722</td>\n",
       "      <td>5</td>\n",
       "      <td>800</td>\n",
       "      <td>79.255</td>\n",
       "      <td>1.255</td>\n",
       "      <td>48</td>\n",
       "      <td>...</td>\n",
       "      <td>1</td>\n",
       "      <td>100</td>\n",
       "      <td>0</td>\n",
       "      <td>79</td>\n",
       "      <td>4</td>\n",
       "      <td>No attack</td>\n",
       "      <td>normal</td>\n",
       "      <td>0.0</td>\n",
       "      <td>0.0</td>\n",
       "      <td>0.0</td>\n",
       "    </tr>\n",
       "    <tr>\n",
       "      <th>3</th>\n",
       "      <td>2</td>\n",
       "      <td>0.100964</td>\n",
       "      <td>75</td>\n",
       "      <td>75</td>\n",
       "      <td>599.979722</td>\n",
       "      <td>5</td>\n",
       "      <td>800</td>\n",
       "      <td>79.255</td>\n",
       "      <td>1.255</td>\n",
       "      <td>48</td>\n",
       "      <td>...</td>\n",
       "      <td>1</td>\n",
       "      <td>100</td>\n",
       "      <td>0</td>\n",
       "      <td>79</td>\n",
       "      <td>4</td>\n",
       "      <td>No attack</td>\n",
       "      <td>normal</td>\n",
       "      <td>0.0</td>\n",
       "      <td>0.0</td>\n",
       "      <td>0.0</td>\n",
       "    </tr>\n",
       "    <tr>\n",
       "      <th>4</th>\n",
       "      <td>2</td>\n",
       "      <td>0.100964</td>\n",
       "      <td>118</td>\n",
       "      <td>118</td>\n",
       "      <td>599.979722</td>\n",
       "      <td>5</td>\n",
       "      <td>800</td>\n",
       "      <td>79.255</td>\n",
       "      <td>1.255</td>\n",
       "      <td>48</td>\n",
       "      <td>...</td>\n",
       "      <td>1</td>\n",
       "      <td>100</td>\n",
       "      <td>0</td>\n",
       "      <td>79</td>\n",
       "      <td>4</td>\n",
       "      <td>No attack</td>\n",
       "      <td>normal</td>\n",
       "      <td>0.0</td>\n",
       "      <td>0.0</td>\n",
       "      <td>0.0</td>\n",
       "    </tr>\n",
       "  </tbody>\n",
       "</table>\n",
       "<p>5 rows × 22 columns</p>\n",
       "</div>"
      ],
      "text/plain": [
       "   Event      Time  S_Node  Node_id  Rest_Energy  Trace_Level  Mac_Type_Pckt  \\\n",
       "0      1  0.100000      79       79   600.000000            5              0   \n",
       "1      2  0.100963      78       78   599.979723            5            800   \n",
       "2      2  0.100963      76       76   599.979722            5            800   \n",
       "3      2  0.100964      75       75   599.979722            5            800   \n",
       "4      2  0.100964     118      118   599.979722            5            800   \n",
       "\n",
       "   Source_IP_Port  Des_IP_Port  Packet_Size  ...  Broadcast_ID  Dest_Node_Num  \\\n",
       "0          79.255        1.255           48  ...             1            100   \n",
       "1          79.255        1.255           48  ...             1            100   \n",
       "2          79.255        1.255           48  ...             1            100   \n",
       "3          79.255        1.255           48  ...             1            100   \n",
       "4          79.255        1.255           48  ...             1            100   \n",
       "\n",
       "   Dest_Seq_Num  Src_Node_ID  Src_Seq_Num  behaviour    Type  \\\n",
       "0             0           79            4  No attack  normal   \n",
       "1             0           79            4  No attack  normal   \n",
       "2             0           79            4  No attack  normal   \n",
       "3             0           79            4  No attack  normal   \n",
       "4             0           79            4  No attack  normal   \n",
       "\n",
       "  rate_of_energy_consumption cumulative_energy_consumption  energy_consumption  \n",
       "0                        0.0                           0.0                 0.0  \n",
       "1                        0.0                           0.0                 0.0  \n",
       "2                        0.0                           0.0                 0.0  \n",
       "3                        0.0                           0.0                 0.0  \n",
       "4                        0.0                           0.0                 0.0  \n",
       "\n",
       "[5 rows x 22 columns]"
      ]
     },
     "execution_count": 3,
     "metadata": {},
     "output_type": "execute_result"
    }
   ],
   "source": [
    "df.head()"
   ]
  },
  {
   "cell_type": "code",
   "execution_count": 4,
   "id": "7a9b1d90",
   "metadata": {},
   "outputs": [
    {
     "data": {
      "text/plain": [
       "(312106, 22)"
      ]
     },
     "execution_count": 4,
     "metadata": {},
     "output_type": "execute_result"
    }
   ],
   "source": [
    "df.shape"
   ]
  },
  {
   "cell_type": "markdown",
   "id": "bc3139a9",
   "metadata": {},
   "source": [
    "#### Checking for missing values"
   ]
  },
  {
   "cell_type": "code",
   "execution_count": null,
   "id": "77fedcfa",
   "metadata": {},
   "outputs": [],
   "source": [
    "df.isnull().sum()"
   ]
  },
  {
   "cell_type": "markdown",
   "id": "e0c57186",
   "metadata": {},
   "source": [
    "#### Dropping irrelevant and constant columns"
   ]
  },
  {
   "cell_type": "code",
   "execution_count": null,
   "id": "03e801f5",
   "metadata": {
    "scrolled": true
   },
   "outputs": [],
   "source": [
    "columns = df.columns.tolist()"
   ]
  },
  {
   "cell_type": "code",
   "execution_count": null,
   "id": "61e336af",
   "metadata": {
    "scrolled": true
   },
   "outputs": [],
   "source": [
    "for column in columns:\n",
    "    print(df[column].value_counts())\n",
    "    print()"
   ]
  },
  {
   "cell_type": "code",
   "execution_count": null,
   "id": "d95a0a15",
   "metadata": {
    "scrolled": true
   },
   "outputs": [],
   "source": [
    "df.drop(['Trace_Level','Mac_Type_Pckt','Des_IP_Port'], axis = 1, inplace = True)"
   ]
  },
  {
   "cell_type": "code",
   "execution_count": null,
   "id": "fa18776e",
   "metadata": {},
   "outputs": [],
   "source": [
    "df"
   ]
  },
  {
   "cell_type": "markdown",
   "id": "208271d5",
   "metadata": {},
   "source": [
    "#### Data Transformation"
   ]
  },
  {
   "cell_type": "markdown",
   "id": "4fc976d6",
   "metadata": {},
   "source": [
    "##### Encoding non-numeric features"
   ]
  },
  {
   "cell_type": "code",
   "execution_count": null,
   "id": "f7949376",
   "metadata": {},
   "outputs": [],
   "source": [
    "# One Hot Encoding for nominal featuers\n",
    "encoded_data = pd.get_dummies(df, columns=['behaviour', 'Type','Event'], drop_first=True)"
   ]
  },
  {
   "cell_type": "code",
   "execution_count": null,
   "id": "5a6d786c",
   "metadata": {},
   "outputs": [],
   "source": [
    "encoded_data"
   ]
  },
  {
   "cell_type": "markdown",
   "id": "b6ac0b9e",
   "metadata": {},
   "source": [
    "##### Data Standarization"
   ]
  },
  {
   "cell_type": "code",
   "execution_count": null,
   "id": "6ad8a03f",
   "metadata": {},
   "outputs": [],
   "source": [
    "time_column = encoded_data['Time'].values.reshape(-1, 1) \n",
    "\n",
    "scaler = StandardScaler()\n",
    "\n",
    "time_standardized = scaler.fit_transform(time_column)\n",
    "\n",
    "data_standardized = pd.DataFrame(encoded_data.drop(columns=['Time'])) \n",
    "data_standardized['Time_standardized'] = time_standardized"
   ]
  },
  {
   "cell_type": "code",
   "execution_count": null,
   "id": "86a3fad7",
   "metadata": {
    "scrolled": false
   },
   "outputs": [],
   "source": [
    "data_standardized"
   ]
  },
  {
   "cell_type": "markdown",
   "id": "44bea653",
   "metadata": {},
   "source": [
    "##### Data Normalization"
   ]
  },
  {
   "cell_type": "code",
   "execution_count": null,
   "id": "f425454f",
   "metadata": {},
   "outputs": [],
   "source": [
    "cols= ['S_Node', 'Node_id', 'Rest_Energy', 'Source_IP_Port', 'Packet_Size','TTL', 'Hop_Count', 'Broadcast_ID', 'Dest_Node_Num', 'Src_Node_ID','Src_Seq_Num', 'rate_of_energy_consumption','cumulative_energy_consumption', 'energy_consumption']\n",
    "\n",
    "selected_columns = data_standardized[cols]\n",
    "\n",
    "scaler = MinMaxScaler()\n",
    "\n",
    "normalized_data = scaler.fit_transform(selected_columns)\n",
    "\n",
    "normalized_df = pd.DataFrame(normalized_data, columns=cols)\n",
    "\n",
    "data_normalized = pd.concat([data_standardized.drop(columns=cols), normalized_df], axis=1)"
   ]
  },
  {
   "cell_type": "code",
   "execution_count": null,
   "id": "e097af15",
   "metadata": {
    "scrolled": false
   },
   "outputs": [],
   "source": [
    "data_normalized"
   ]
  },
  {
   "cell_type": "code",
   "execution_count": null,
   "id": "b57c3ce9",
   "metadata": {},
   "outputs": [],
   "source": [
    "df = data_normalized"
   ]
  },
  {
   "cell_type": "markdown",
   "id": "b7f483df",
   "metadata": {},
   "source": [
    "## Feature Selection"
   ]
  },
  {
   "cell_type": "markdown",
   "id": "11ece311",
   "metadata": {},
   "source": [
    "#### SelectKBest for Linear Regression"
   ]
  },
  {
   "cell_type": "code",
   "execution_count": null,
   "id": "5836d300",
   "metadata": {},
   "outputs": [],
   "source": [
    "X = df.drop(columns=['TTL'])  \n",
    "y = df['TTL']"
   ]
  },
  {
   "cell_type": "code",
   "execution_count": null,
   "id": "441922a0",
   "metadata": {
    "scrolled": true
   },
   "outputs": [],
   "source": [
    "X_train, X_test, y_train, y_test = train_test_split(X, y, test_size=0.2, random_state=0)"
   ]
  },
  {
   "cell_type": "code",
   "execution_count": null,
   "id": "68fd8603",
   "metadata": {
    "scrolled": false
   },
   "outputs": [],
   "source": [
    "r2_values = []\n",
    "mse_values = []\n",
    "rmse_values = []\n",
    "mae_values = []\n",
    "selected_features = []\n",
    "for i in range(1,22):\n",
    "    select_kbest = SelectKBest(score_func=f_regression, k=i)\n",
    "    select_kbest.fit(X_train, y_train)\n",
    "    \n",
    "    X_train_new = select_kbest.transform(X_train)\n",
    "    X_test_new = select_kbest.transform(X_test)\n",
    "    \n",
    "    model = LinearRegression()\n",
    "    model.fit(X_train_new, y_train)\n",
    "    \n",
    "    y_pred = model.predict(X_test_new)\n",
    "\n",
    "    r2 = r2_score(y_test, y_pred)\n",
    "    mse = mean_squared_error(y_test, y_pred)\n",
    "    rmse = mean_squared_error(y_test, y_pred, squared=False)\n",
    "    mae = mean_absolute_error(y_test, y_pred)\n",
    "    \n",
    "    r2_values.append(r2)\n",
    "    mse_values.append(mse)\n",
    "    rmse_values.append(rmse)\n",
    "    mae_values.append(mae)\n",
    "    selected_features.append(X.columns[select_kbest.get_support()])\n",
    "print(f\"Iteration {r2_values.index(max(r2_values)) + 1} has the highest R2 of {max(r2_values)}\")\n",
    "print(f\"Iteration {mse_values.index(min(mse_values)) + 1} has the lowest MSE of {min(mse_values)}\")\n",
    "print(f\"Iteration {rmse_values.index(min(rmse_values)) + 1} has the lowest RMSE of {min(rmse_values)}\")\n",
    "print(f\"Iteration {mae_values.index(min(mae_values)) + 1} has the lowest MAE of {min(mae_values)}\")"
   ]
  },
  {
   "cell_type": "markdown",
   "id": "e464f8bc",
   "metadata": {},
   "source": [
    "#### SelectKBest for Decision Tree"
   ]
  },
  {
   "cell_type": "code",
   "execution_count": null,
   "id": "4b24e481",
   "metadata": {},
   "outputs": [],
   "source": [
    "r2_values = []\n",
    "mse_values = []\n",
    "rmse_values = []\n",
    "mae_values = []\n",
    "selected_features = []\n",
    "for i in range(1,22):\n",
    "    select_kbest = SelectKBest(score_func=f_regression, k=i)\n",
    "    select_kbest.fit(X_train, y_train)\n",
    "    \n",
    "    X_train_new = select_kbest.transform(X_train)\n",
    "    X_test_new = select_kbest.transform(X_test)\n",
    "    \n",
    "    model = DecisionTreeRegressor()\n",
    "    model.fit(X_train_new, y_train)\n",
    "    \n",
    "    y_pred = model.predict(X_test_new)\n",
    "\n",
    "    r2 = r2_score(y_test, y_pred)\n",
    "    mse = mean_squared_error(y_test, y_pred)\n",
    "    rmse = mean_squared_error(y_test, y_pred, squared=False)\n",
    "    mae = mean_absolute_error(y_test, y_pred)\n",
    "    \n",
    "    r2_values.append(r2)\n",
    "    mse_values.append(mse)\n",
    "    rmse_values.append(rmse)\n",
    "    mae_values.append(mae)\n",
    "    selected_features.append(X.columns[select_kbest.get_support()])\n",
    "print(f\"Iteration {r2_values.index(max(r2_values)) + 1} has the highest R2 of {max(r2_values)}\")\n",
    "print(f\"Iteration {mse_values.index(min(mse_values)) + 1} has the lowest MSE of {min(mse_values)}\")\n",
    "print(f\"Iteration {rmse_values.index(min(rmse_values)) + 1} has the lowest RMSE of {min(rmse_values)}\")\n",
    "print(f\"Iteration {mae_values.index(min(mae_values)) + 1} has the lowest MAE of {min(mae_values)}\")"
   ]
  },
  {
   "cell_type": "markdown",
   "id": "36cc8063",
   "metadata": {},
   "source": [
    "#### SelectKBest for Random Forest"
   ]
  },
  {
   "cell_type": "code",
   "execution_count": null,
   "id": "1f16c0f7",
   "metadata": {
    "scrolled": true
   },
   "outputs": [],
   "source": [
    "r2_values = []\n",
    "mse_values = []\n",
    "rmse_values = []\n",
    "mae_values = []\n",
    "selected_features = []\n",
    "for i in range(1,22):\n",
    "    select_kbest = SelectKBest(score_func=f_regression, k=i)\n",
    "    select_kbest.fit(X_train, y_train)\n",
    "    \n",
    "    X_train_new = select_kbest.transform(X_train)\n",
    "    X_test_new = select_kbest.transform(X_test)\n",
    "    \n",
    "    model = RandomForestRegressor()\n",
    "    model.fit(X_train_new, y_train)\n",
    "    \n",
    "    y_pred = model.predict(X_test_new)\n",
    "\n",
    "    r2 = r2_score(y_test, y_pred)\n",
    "    mse = mean_squared_error(y_test, y_pred)\n",
    "    rmse = mean_squared_error(y_test, y_pred, squared=False)\n",
    "    mae = mean_absolute_error(y_test, y_pred)\n",
    "    \n",
    "    r2_values.append(r2)\n",
    "    mse_values.append(mse)\n",
    "    rmse_values.append(rmse)\n",
    "    mae_values.append(mae)\n",
    "    selected_features.append(X.columns[select_kbest.get_support()])\n",
    "print(f\"Iteration {r2_values.index(max(r2_values)) + 1} has the highest R2 of {max(r2_values)}\")\n",
    "print(f\"Iteration {mse_values.index(min(mse_values)) + 1} has the lowest MSE of {min(mse_values)}\")\n",
    "print(f\"Iteration {rmse_values.index(min(rmse_values)) + 1} has the lowest RMSE of {min(rmse_values)}\")\n",
    "print(f\"Iteration {mae_values.index(min(mae_values)) + 1} has the lowest MAE of {min(mae_values)}\")"
   ]
  },
  {
   "cell_type": "markdown",
   "id": "5fa71aef",
   "metadata": {},
   "source": [
    "#### SelectFrom for Linear Regression:"
   ]
  },
  {
   "cell_type": "code",
   "execution_count": null,
   "id": "a12a3a33",
   "metadata": {
    "scrolled": true
   },
   "outputs": [],
   "source": [
    "model =  LinearRegression()\n",
    "model.fit(X,y)\n",
    "selector = SelectFromModel(model)\n",
    "selector.fit(X,y)\n",
    "selectfrom_lr_selected_features = X.columns[selector.get_support()]\n",
    "print(\"Selected features:\", selectfrom_lr_selected_features)"
   ]
  },
  {
   "cell_type": "markdown",
   "id": "797a8e38",
   "metadata": {},
   "source": [
    "#### SelectFrom for Decision Tree:"
   ]
  },
  {
   "cell_type": "code",
   "execution_count": null,
   "id": "a0426664",
   "metadata": {},
   "outputs": [],
   "source": [
    "model =  DecisionTreeRegressor()\n",
    "model.fit(X,y)\n",
    "selector = SelectFromModel(model)\n",
    "selector.fit(X,y)\n",
    "selectfrom_dt_selected_features = X.columns[selector.get_support()]\n",
    "print(\"Selected features:\", selectfrom_dt_selected_features)"
   ]
  },
  {
   "cell_type": "markdown",
   "id": "36900e14",
   "metadata": {},
   "source": [
    "#### SelectFrom for Random Forest:"
   ]
  },
  {
   "cell_type": "code",
   "execution_count": null,
   "id": "8bdfa4be",
   "metadata": {},
   "outputs": [],
   "source": [
    "model =  RandomForestRegressor()\n",
    "model.fit(X,y)\n",
    "selector = SelectFromModel(model)\n",
    "selector.fit(X,y)\n",
    "selectfrom_rf_selected_features = X.columns[selector.get_support()]\n",
    "print(\"Selected features:\", selectfrom_rf_selected_features)"
   ]
  },
  {
   "cell_type": "markdown",
   "id": "9eb57a7d",
   "metadata": {},
   "source": [
    "## Predictive Modeling"
   ]
  },
  {
   "cell_type": "markdown",
   "id": "7133afef",
   "metadata": {},
   "source": [
    "#### Linear Regression"
   ]
  },
  {
   "cell_type": "markdown",
   "id": "2d5720f9",
   "metadata": {},
   "source": [
    "##### SelectKBest"
   ]
  },
  {
   "cell_type": "code",
   "execution_count": null,
   "id": "a5b16914",
   "metadata": {},
   "outputs": [],
   "source": [
    "X_train, X_test, y_train, y_test = train_test_split(X, y, test_size=0.2, random_state=0)"
   ]
  },
  {
   "cell_type": "code",
   "execution_count": null,
   "id": "1987651f",
   "metadata": {},
   "outputs": [],
   "source": [
    "selector = SelectKBest(f_regression, k=21)\n",
    "selector.fit(X_train, y_train)\n",
    "selected_features = X.columns[selector.get_support()]"
   ]
  },
  {
   "cell_type": "code",
   "execution_count": null,
   "id": "f4dd22a1",
   "metadata": {},
   "outputs": [],
   "source": [
    "print(\"The selected features for Linear Regression using SelectKBest are: \", selected_features)"
   ]
  },
  {
   "cell_type": "code",
   "execution_count": null,
   "id": "898c710e",
   "metadata": {
    "scrolled": false
   },
   "outputs": [],
   "source": [
    "model = LinearRegression()\n",
    "lr_result = []\n",
    "for i in range(31):\n",
    "    X_train, X_test, y_train, y_test = train_test_split(X[selected_features], y, test_size=0.2, random_state = i)\n",
    "    \n",
    "    model.fit(X_train, y_train)\n",
    "    y_pred = model.predict(X_test)\n",
    "\n",
    "    MAE = mean_absolute_error(y_test, y_pred)\n",
    "    MSE = mean_squared_error(y_test, y_pred)\n",
    "    RMSE = mean_squared_error(y_test, y_pred, squared=False)\n",
    "    R2 = r2_score(y_test, y_pred)\n",
    "    lr_result.append({'MAE':MAE,'MSE':MSE,'RMSE':RMSE,'R2':R2})\n",
    "lr_df = pd.DataFrame(lr_result)"
   ]
  },
  {
   "cell_type": "code",
   "execution_count": null,
   "id": "04cab65d",
   "metadata": {},
   "outputs": [],
   "source": [
    "print(\"The R2 of the Linear Regression using SelectKBest: \",lr_df['R2'].mean())\n",
    "print(\"The MSE of the Linear Regression using SelectKBest: \",lr_df['MSE'].mean())\n",
    "print(\"The R2 of the Linear Regression using SelectKBest: \",lr_df['RMSE'].mean())\n",
    "print(\"The MSE of the Linear Regression using SelectKBest: \",lr_df['MAE'].mean())"
   ]
  },
  {
   "cell_type": "markdown",
   "id": "677268dc",
   "metadata": {},
   "source": [
    "##### SelectFrom"
   ]
  },
  {
   "cell_type": "code",
   "execution_count": null,
   "id": "a639f14b",
   "metadata": {
    "scrolled": false
   },
   "outputs": [],
   "source": [
    "model = LinearRegression()\n",
    "selectfrom_lr_result = []\n",
    "for i in range(31):\n",
    "    X_train, X_test, y_train, y_test = train_test_split(X[selectfrom_lr_selected_features], y, test_size=0.2,random_state=i)\n",
    "    \n",
    "    model.fit(X_train,y_train)\n",
    "    y_pred = model.predict(X_test)\n",
    "    \n",
    "    metrics = {'MAE': mean_absolute_error(y_test, y_pred),\n",
    "               'MSE': mean_squared_error(y_test, y_pred),\n",
    "               'RMSE': mean_squared_error(y_test, y_pred, squared=False),\n",
    "               'R2': r2_score(y_test, y_pred)}\n",
    "    selectfrom_lr_result.append(metrics)\n",
    "selectfrom_lr_df = pd.DataFrame(selectfrom_lr_result)"
   ]
  },
  {
   "cell_type": "code",
   "execution_count": null,
   "id": "025ffb31",
   "metadata": {},
   "outputs": [],
   "source": [
    "print(\"The R2 of the Linear Regression using SelectFromModel: \",selectfrom_lr_df['R2'].mean())\n",
    "print(\"The MSE of the Linear Regression using SelectFromModel: \",selectfrom_lr_df['MSE'].mean())\n",
    "print(\"The R2 of the Linear Regression using SelectFromModel: \",selectfrom_lr_df['RMSE'].mean())\n",
    "print(\"The MSE of the Linear Regression using SelectFromModel: \",selectfrom_lr_df['MAE'].mean())"
   ]
  },
  {
   "cell_type": "markdown",
   "id": "277694ed",
   "metadata": {},
   "source": [
    "#### Decision Tree"
   ]
  },
  {
   "cell_type": "markdown",
   "id": "5459150f",
   "metadata": {},
   "source": [
    "##### SelectKBest"
   ]
  },
  {
   "cell_type": "code",
   "execution_count": null,
   "id": "f0551656",
   "metadata": {},
   "outputs": [],
   "source": [
    "X_train, X_test, y_train, y_test = train_test_split(X, y, test_size=0.2, random_state=0)"
   ]
  },
  {
   "cell_type": "code",
   "execution_count": null,
   "id": "9793093f",
   "metadata": {},
   "outputs": [],
   "source": [
    "selector = SelectKBest(f_regression, k = 5)\n",
    "selector.fit(X_train, y_train)\n",
    "selected_features = X.columns[selector.get_support()]"
   ]
  },
  {
   "cell_type": "code",
   "execution_count": null,
   "id": "73e18025",
   "metadata": {},
   "outputs": [],
   "source": [
    "print(\"The selected features for Decision Tree using SelectKBest are: \", selected_features)"
   ]
  },
  {
   "cell_type": "code",
   "execution_count": null,
   "id": "40cc1542",
   "metadata": {
    "scrolled": false
   },
   "outputs": [],
   "source": [
    "model = DecisionTreeRegressor()\n",
    "skb_dt_result = []\n",
    "for i in range(31):\n",
    "    X_train, X_test, y_train, y_test = train_test_split(X[selected_features], y, test_size=0.2, random_state = i)\n",
    "    \n",
    "    model.fit(X_train, y_train)\n",
    "    y_pred = model.predict(X_test)\n",
    "\n",
    "    MAE = mean_absolute_error(y_test, y_pred)\n",
    "    MSE = mean_squared_error(y_test, y_pred)\n",
    "    RMSE = mean_squared_error(y_test, y_pred, squared=False)\n",
    "    R2 = r2_score(y_test, y_pred)\n",
    "    skb_dt_result.append({'MAE':MAE,'MSE':MSE,'RMSE':RMSE,'R2':R2})\n",
    "skb_dt_df = pd.DataFrame(skb_dt_result)"
   ]
  },
  {
   "cell_type": "code",
   "execution_count": null,
   "id": "ca36de76",
   "metadata": {},
   "outputs": [],
   "source": [
    "print(\"The R2 of the Decision Tree Regression using SelectKBest: \", skb_dt_df['R2'].mean())\n",
    "print(\"The MSE of the Decision Tree Regression using SelectKBest: \", skb_dt_df['MSE'].mean())\n",
    "print(\"The R2 of the Decision Tree Regression using SelectKBest: \", skb_dt_df['RMSE'].mean())\n",
    "print(\"The MSE of the Decision Tree Regression using SelectKBest: \", skb_dt_df['MAE'].mean())"
   ]
  },
  {
   "cell_type": "markdown",
   "id": "c44172dd",
   "metadata": {},
   "source": [
    "##### SelectFrom"
   ]
  },
  {
   "cell_type": "code",
   "execution_count": null,
   "id": "3e76eb04",
   "metadata": {},
   "outputs": [],
   "source": [
    "model = DecisionTreeRegressor()\n",
    "selectfrom_dt_result = []\n",
    "for i in range(31):\n",
    "    X_train, X_test, y_train, y_test = train_test_split(X[selectfrom_dt_selected_features], y, test_size=0.2,random_state=i)\n",
    "    \n",
    "    model.fit(X_train,y_train)\n",
    "    y_pred = model.predict(X_test)\n",
    "    \n",
    "    metrics = {'MAE': mean_absolute_error(y_test, y_pred),\n",
    "               'MSE': mean_squared_error(y_test, y_pred),\n",
    "               'RMSE': mean_squared_error(y_test, y_pred, squared=False),\n",
    "               'R2': r2_score(y_test, y_pred)}\n",
    "    selectfrom_dt_result.append(metrics)\n",
    "selectfrom_dt_df = pd.DataFrame(selectfrom_dt_result)"
   ]
  },
  {
   "cell_type": "code",
   "execution_count": null,
   "id": "767955d6",
   "metadata": {},
   "outputs": [],
   "source": [
    "print(\"The R2 of the Decision Tree Regression using SelectFromModel: \", selectfrom_dt_df['R2'].mean())\n",
    "print(\"The MSE of the Decision Tree Regression using SelectFromModel: \", selectfrom_dt_df['MSE'].mean())\n",
    "print(\"The R2 of the Decision Tree Regression using SelectFromModel: \", selectfrom_dt_df['RMSE'].mean())\n",
    "print(\"The MSE of the Decision Tree Regression using SelectFromModel: \", selectfrom_dt_df['MAE'].mean())"
   ]
  },
  {
   "cell_type": "markdown",
   "id": "1331684e",
   "metadata": {},
   "source": [
    "#### Random Forest"
   ]
  },
  {
   "cell_type": "markdown",
   "id": "e4cd3ffa",
   "metadata": {},
   "source": [
    "##### SelectKBest"
   ]
  },
  {
   "cell_type": "code",
   "execution_count": null,
   "id": "2f8d05c6",
   "metadata": {},
   "outputs": [],
   "source": [
    "X_train, X_test, y_train, y_test = train_test_split(X, y, test_size=0.2, random_state=0)"
   ]
  },
  {
   "cell_type": "code",
   "execution_count": null,
   "id": "afdd153b",
   "metadata": {},
   "outputs": [],
   "source": [
    "selector = SelectKBest(f_regression, k = 5)\n",
    "selector.fit(X_train, y_train)\n",
    "selected_features = X.columns[selector.get_support()]"
   ]
  },
  {
   "cell_type": "code",
   "execution_count": null,
   "id": "a1ae3e76",
   "metadata": {},
   "outputs": [],
   "source": [
    "print(\"The selected features for Random Forest using SelectKBest are: \", selected_features)"
   ]
  },
  {
   "cell_type": "code",
   "execution_count": null,
   "id": "1bd51d5f",
   "metadata": {},
   "outputs": [],
   "source": [
    "model = RandomForestRegressor()\n",
    "skb_rf_result = []\n",
    "for i in range(31):\n",
    "    X_train, X_test, y_train, y_test = train_test_split(X[selected_features], y, test_size=0.2, random_state = i)\n",
    "    \n",
    "    model.fit(X_train, y_train)\n",
    "    y_pred = model.predict(X_test)\n",
    "\n",
    "    MAE = mean_absolute_error(y_test, y_pred)\n",
    "    MSE = mean_squared_error(y_test, y_pred)\n",
    "    RMSE = mean_squared_error(y_test, y_pred, squared=False)\n",
    "    R2 = r2_score(y_test, y_pred)\n",
    "    skb_rf_result.append({'MAE':MAE,'MSE':MSE,'RMSE':RMSE,'R2':R2})\n",
    "skb_rf_df = pd.DataFrame(skb_rf_result)"
   ]
  },
  {
   "cell_type": "code",
   "execution_count": null,
   "id": "ea599cfa",
   "metadata": {},
   "outputs": [],
   "source": [
    "print(\"The R2 of the Random Forest Regression using SelectKBest: \",skb_rf_df['R2'].mean())\n",
    "print(\"The MSE of the Random Forest Regression using SelectKBest: \",skb_rf_df['MSE'].mean())\n",
    "print(\"The R2 of the Random Forest Regression using SelectKBest: \",skb_rf_df['RMSE'].mean())\n",
    "print(\"The MSE of the Random Forest Regression using SelectKBest: \",skb_rf_df['MAE'].mean())"
   ]
  },
  {
   "cell_type": "markdown",
   "id": "a31be8fb",
   "metadata": {},
   "source": [
    "##### SelectFrom"
   ]
  },
  {
   "cell_type": "code",
   "execution_count": null,
   "id": "fa13d2af",
   "metadata": {},
   "outputs": [],
   "source": [
    "model = RandomForestRegressor()\n",
    "selectfrom_rf_result = []\n",
    "for i in range(31):\n",
    "    X_train, X_test, y_train, y_test = train_test_split(X[selectfrom_rf_selected_features], y, test_size=0.2,random_state=i)\n",
    "    \n",
    "    model.fit(X_train,y_train)\n",
    "    y_pred = model.predict(X_test)\n",
    "    \n",
    "    metrics = {'MAE': mean_absolute_error(y_test, y_pred),\n",
    "               'MSE': mean_squared_error(y_test, y_pred),\n",
    "               'RMSE': mean_squared_error(y_test, y_pred, squared=False),\n",
    "               'R2': r2_score(y_test, y_pred)}\n",
    "    selectfrom_rf_result.append(metrics)\n",
    "selectfrom_rf_df = pd.DataFrame(selectfrom_rf_result)"
   ]
  },
  {
   "cell_type": "code",
   "execution_count": null,
   "id": "f1cea834",
   "metadata": {},
   "outputs": [],
   "source": [
    "print(\"The R2 of the Random Forest Regression using SelectFromModel: \",selectfrom_rf_df['R2'].mean())\n",
    "print(\"The MSE of the Random Forest Regression using SelectFromModel: \",selectfrom_rf_df['MSE'].mean())\n",
    "print(\"The R2 of the Random Forest Regression using SelectFromModel: \",selectfrom_rf_df['RMSE'].mean())\n",
    "print(\"The MSE of the Random Forest Regression using SelectFromModel: \",selectfrom_rf_df['MAE'].mean())"
   ]
  },
  {
   "cell_type": "markdown",
   "id": "c7d59830",
   "metadata": {},
   "source": [
    "## Results Visualization"
   ]
  },
  {
   "cell_type": "code",
   "execution_count": null,
   "id": "fe090908",
   "metadata": {},
   "outputs": [],
   "source": [
    "skb_rf_df = pd.DataFrame(skb_rf_result)\n",
    "skb_dt_df = pd.DataFrame(skb_dt_result)\n",
    "lr_df = pd.DataFrame(lr_result)\n",
    "\n",
    "selectfrom_lr_df = pd.DataFrame(selectfrom_lr_result)\n",
    "selectfrom_dt_df = pd.DataFrame(selectfrom_dt_result)\n",
    "selectfrom_rf_df = pd.DataFrame(selectfrom_rf_result)"
   ]
  },
  {
   "cell_type": "code",
   "execution_count": null,
   "id": "20f3d823",
   "metadata": {},
   "outputs": [],
   "source": [
    "dataframes = [lr_df, skb_dt_df, skb_rf_df]\n",
    "labels = ['Linear Regression', 'Decision Tree Regression', 'Random Forest Regression']\n",
    "\n",
    "r2_values = [df['R2'] for df in dataframes]\n",
    "\n",
    "plt.figure(figsize=(10, 6))\n",
    "plt.boxplot(r2_values, labels=labels, patch_artist=True, boxprops=dict(facecolor='lightgray'))\n",
    "\n",
    "plt.xlabel('Models')\n",
    "plt.ylabel('R2')\n",
    "plt.title('Boxplot of R2 by selectKBest')\n",
    "\n",
    "plt.show()"
   ]
  },
  {
   "cell_type": "code",
   "execution_count": null,
   "id": "2a634ad5",
   "metadata": {},
   "outputs": [],
   "source": [
    "dataframes = [lr_df, skb_dt_df, skb_rf_df]\n",
    "labels = ['Linear Regression', 'Decision Tree Regression', 'Random Forest Regression']\n",
    "\n",
    "r2_values = [df['MSE'] for df in dataframes]\n",
    "\n",
    "plt.figure(figsize=(10, 6))\n",
    "plt.boxplot(r2_values, labels=labels, patch_artist=True, boxprops=dict(facecolor='lightgray'))\n",
    "\n",
    "plt.xlabel('Models')\n",
    "plt.ylabel('MSE')\n",
    "plt.title('Boxplot of MSE by selectKBest')\n",
    "\n",
    "plt.show()"
   ]
  },
  {
   "cell_type": "code",
   "execution_count": null,
   "id": "c1ce8a3b",
   "metadata": {},
   "outputs": [],
   "source": [
    "dataframes = [selectfrom_lr_df, selectfrom_dt_df, selectfrom_rf_df]\n",
    "labels = ['Linear Regression', 'Decision Tree Regression', 'Random Forest Regression']\n",
    "\n",
    "r2_values = [df['R2'] for df in dataframes]\n",
    "\n",
    "plt.figure(figsize=(10, 6))\n",
    "plt.boxplot(r2_values, labels=labels, patch_artist=True, boxprops=dict(facecolor='lightgray'))\n",
    "\n",
    "plt.xlabel('Models')\n",
    "plt.ylabel('R2')\n",
    "plt.title('Boxplot of R2 by selectFromModel')\n",
    "\n",
    "plt.show()"
   ]
  },
  {
   "cell_type": "code",
   "execution_count": null,
   "id": "9c73a042",
   "metadata": {},
   "outputs": [],
   "source": [
    "dataframes = [selectfrom_lr_df, selectfrom_dt_df, selectfrom_rf_df]\n",
    "labels = ['Linear Regression', 'Decision Tree Regression', 'Random Forest Regression']\n",
    "\n",
    "r2_values = [df['MSE'] for df in dataframes]\n",
    "\n",
    "plt.figure(figsize=(10, 6))\n",
    "plt.boxplot(r2_values, labels=labels, patch_artist=True, boxprops=dict(facecolor='lightgray'))\n",
    "\n",
    "plt.xlabel('Models')\n",
    "plt.ylabel('MSE')\n",
    "plt.title('Boxplot of MSE by selectFromModel')\n",
    "\n",
    "plt.show()"
   ]
  },
  {
   "cell_type": "code",
   "execution_count": null,
   "id": "1589d765",
   "metadata": {},
   "outputs": [],
   "source": [
    "models = ['Linear Regression', 'Decision Tree Regression', 'Random Forest Regression']\n",
    "labels = ['R2']\n",
    "colors = ['red', 'green']  # Red for SelectKBest, Green for SelectFromModel\n",
    "\n",
    "fig, ax = plt.subplots(figsize=(10, 6))\n",
    "\n",
    "x = np.arange(len(models))\n",
    "width = 0.35\n",
    "\n",
    "for i, label in enumerate(labels):\n",
    "    skb_value = [lr_df[label].mean(), skb_dt_df[label].mean(), skb_rf_df[label].mean()]\n",
    "    sfm_value = [selectfrom_lr_df[label].mean(), selectfrom_dt_df[label].mean(), selectfrom_rf_df[label].mean()]\n",
    "\n",
    "    ax.bar(x - width/2, skb_value, width, label='SelectKBest', color=colors[0])\n",
    "    ax.bar(x + width/2, sfm_value, width, label='SelectFromModel', color=colors[1])\n",
    "\n",
    "ax.set_ylabel('R2')\n",
    "ax.set_title('R2 by Model')\n",
    "ax.set_xticks(x)\n",
    "ax.set_xticklabels(models)\n",
    "ax.legend()\n",
    "\n",
    "plt.tight_layout()\n",
    "plt.show()\n"
   ]
  },
  {
   "cell_type": "code",
   "execution_count": null,
   "id": "eed9951b",
   "metadata": {},
   "outputs": [],
   "source": [
    "models = ['Linear Regression', 'Decision Tree Regression', 'Random Forest Regression']\n",
    "labels = ['MSE']\n",
    "colors = ['red', 'green']  # Red for SelectKBest, Green for SelectFromModel\n",
    "\n",
    "fig, ax = plt.subplots(figsize=(10, 6))\n",
    "\n",
    "x = np.arange(len(models))\n",
    "width = 0.35\n",
    "\n",
    "for i, label in enumerate(labels):\n",
    "    skb_value = [lr_df[label].mean(), skb_dt_df[label].mean(), skb_rf_df[label].mean()]\n",
    "    sfm_value = [selectfrom_lr_df[label].mean(), selectfrom_dt_df[label].mean(), selectfrom_rf_df[label].mean()]\n",
    "\n",
    "    ax.bar(x - width/2, skb_value, width, label='SelectKBest', color=colors[0])\n",
    "    ax.bar(x + width/2, sfm_value, width, label='SelectFromModel', color=colors[1])\n",
    "\n",
    "ax.set_ylabel('MSE')\n",
    "ax.set_title('MSE by Model')\n",
    "ax.set_xticks(x)\n",
    "ax.set_xticklabels(models)\n",
    "ax.legend()\n",
    "\n",
    "plt.tight_layout()\n",
    "plt.show()\n"
   ]
  },
  {
   "cell_type": "code",
   "execution_count": null,
   "id": "31c79577",
   "metadata": {},
   "outputs": [],
   "source": []
  }
 ],
 "metadata": {
  "kernelspec": {
   "display_name": "Python 3 (ipykernel)",
   "language": "python",
   "name": "python3"
  },
  "language_info": {
   "codemirror_mode": {
    "name": "ipython",
    "version": 3
   },
   "file_extension": ".py",
   "mimetype": "text/x-python",
   "name": "python",
   "nbconvert_exporter": "python",
   "pygments_lexer": "ipython3",
   "version": "3.11.3"
  }
 },
 "nbformat": 4,
 "nbformat_minor": 5
}
